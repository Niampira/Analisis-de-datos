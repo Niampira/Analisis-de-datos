{
 "cells": [
  {
   "cell_type": "markdown",
   "id": "24233f0f",
   "metadata": {},
   "source": [
    "# EJERCICIO DE REGRESION LOGISTICA "
   ]
  },
  {
   "cell_type": "markdown",
   "id": "dfebe712",
   "metadata": {},
   "source": [
    "## PREDICCIÓN DE ENFERMEDADES CARDÍACAS"
   ]
  },
  {
   "cell_type": "code",
   "execution_count": 14,
   "id": "ff594b5f",
   "metadata": {},
   "outputs": [],
   "source": [
    "import pandas as pd\n",
    "import numpy as np\n",
    "import os\n",
    "import matplotlib.pyplot as plt"
   ]
  },
  {
   "cell_type": "code",
   "execution_count": 6,
   "id": "a86a6f53",
   "metadata": {},
   "outputs": [],
   "source": [
    "datos = pd.read_csv('..\\Jorge\\Datos/Rlogística.csv')"
   ]
  },
  {
   "cell_type": "code",
   "execution_count": 7,
   "id": "27cd8a65",
   "metadata": {
    "scrolled": true
   },
   "outputs": [
    {
     "data": {
      "text/html": [
       "<div>\n",
       "<style scoped>\n",
       "    .dataframe tbody tr th:only-of-type {\n",
       "        vertical-align: middle;\n",
       "    }\n",
       "\n",
       "    .dataframe tbody tr th {\n",
       "        vertical-align: top;\n",
       "    }\n",
       "\n",
       "    .dataframe thead th {\n",
       "        text-align: right;\n",
       "    }\n",
       "</style>\n",
       "<table border=\"1\" class=\"dataframe\">\n",
       "  <thead>\n",
       "    <tr style=\"text-align: right;\">\n",
       "      <th></th>\n",
       "      <th>SEXO</th>\n",
       "      <th>EDAD</th>\n",
       "      <th>EDUCACION</th>\n",
       "      <th>FUMADOR ACTUAL</th>\n",
       "      <th>CIGARRILLOS POR DIA</th>\n",
       "      <th>MED PA</th>\n",
       "      <th>ACCICBP</th>\n",
       "      <th>HIPERTENSO PREV</th>\n",
       "      <th>DIABETES</th>\n",
       "      <th>NIVEL COLESTEROL TOTAL</th>\n",
       "      <th>PRESION ARTERIAL SIS</th>\n",
       "      <th>PRESION ARTERIAL DIAS</th>\n",
       "      <th>IMC</th>\n",
       "      <th>FRECUENCIA CARDIACA</th>\n",
       "      <th>NIVEL GLUCOSA</th>\n",
       "      <th>REC10A</th>\n",
       "    </tr>\n",
       "  </thead>\n",
       "  <tbody>\n",
       "    <tr>\n",
       "      <th>0</th>\n",
       "      <td>1</td>\n",
       "      <td>39</td>\n",
       "      <td>4.0</td>\n",
       "      <td>0</td>\n",
       "      <td>0.0</td>\n",
       "      <td>0.0</td>\n",
       "      <td>0</td>\n",
       "      <td>0</td>\n",
       "      <td>0</td>\n",
       "      <td>195.0</td>\n",
       "      <td>106.0</td>\n",
       "      <td>70.0</td>\n",
       "      <td>26.97</td>\n",
       "      <td>80.0</td>\n",
       "      <td>77.0</td>\n",
       "      <td>0</td>\n",
       "    </tr>\n",
       "    <tr>\n",
       "      <th>1</th>\n",
       "      <td>0</td>\n",
       "      <td>46</td>\n",
       "      <td>2.0</td>\n",
       "      <td>0</td>\n",
       "      <td>0.0</td>\n",
       "      <td>0.0</td>\n",
       "      <td>0</td>\n",
       "      <td>0</td>\n",
       "      <td>0</td>\n",
       "      <td>250.0</td>\n",
       "      <td>121.0</td>\n",
       "      <td>81.0</td>\n",
       "      <td>28.73</td>\n",
       "      <td>95.0</td>\n",
       "      <td>76.0</td>\n",
       "      <td>0</td>\n",
       "    </tr>\n",
       "    <tr>\n",
       "      <th>2</th>\n",
       "      <td>1</td>\n",
       "      <td>48</td>\n",
       "      <td>1.0</td>\n",
       "      <td>1</td>\n",
       "      <td>20.0</td>\n",
       "      <td>0.0</td>\n",
       "      <td>0</td>\n",
       "      <td>0</td>\n",
       "      <td>0</td>\n",
       "      <td>245.0</td>\n",
       "      <td>127.5</td>\n",
       "      <td>80.0</td>\n",
       "      <td>25.34</td>\n",
       "      <td>75.0</td>\n",
       "      <td>70.0</td>\n",
       "      <td>0</td>\n",
       "    </tr>\n",
       "    <tr>\n",
       "      <th>3</th>\n",
       "      <td>0</td>\n",
       "      <td>61</td>\n",
       "      <td>3.0</td>\n",
       "      <td>1</td>\n",
       "      <td>30.0</td>\n",
       "      <td>0.0</td>\n",
       "      <td>0</td>\n",
       "      <td>1</td>\n",
       "      <td>0</td>\n",
       "      <td>225.0</td>\n",
       "      <td>150.0</td>\n",
       "      <td>95.0</td>\n",
       "      <td>28.58</td>\n",
       "      <td>65.0</td>\n",
       "      <td>103.0</td>\n",
       "      <td>1</td>\n",
       "    </tr>\n",
       "    <tr>\n",
       "      <th>4</th>\n",
       "      <td>0</td>\n",
       "      <td>46</td>\n",
       "      <td>3.0</td>\n",
       "      <td>1</td>\n",
       "      <td>23.0</td>\n",
       "      <td>0.0</td>\n",
       "      <td>0</td>\n",
       "      <td>0</td>\n",
       "      <td>0</td>\n",
       "      <td>285.0</td>\n",
       "      <td>130.0</td>\n",
       "      <td>84.0</td>\n",
       "      <td>23.10</td>\n",
       "      <td>85.0</td>\n",
       "      <td>85.0</td>\n",
       "      <td>0</td>\n",
       "    </tr>\n",
       "  </tbody>\n",
       "</table>\n",
       "</div>"
      ],
      "text/plain": [
       "   SEXO  EDAD  EDUCACION  FUMADOR ACTUAL  CIGARRILLOS POR DIA  MED PA  \\\n",
       "0     1    39        4.0               0                  0.0     0.0   \n",
       "1     0    46        2.0               0                  0.0     0.0   \n",
       "2     1    48        1.0               1                 20.0     0.0   \n",
       "3     0    61        3.0               1                 30.0     0.0   \n",
       "4     0    46        3.0               1                 23.0     0.0   \n",
       "\n",
       "   ACCICBP  HIPERTENSO PREV  DIABETES  NIVEL COLESTEROL TOTAL  \\\n",
       "0        0                0         0                   195.0   \n",
       "1        0                0         0                   250.0   \n",
       "2        0                0         0                   245.0   \n",
       "3        0                1         0                   225.0   \n",
       "4        0                0         0                   285.0   \n",
       "\n",
       "   PRESION ARTERIAL SIS  PRESION ARTERIAL DIAS    IMC  FRECUENCIA CARDIACA  \\\n",
       "0                 106.0                   70.0  26.97                 80.0   \n",
       "1                 121.0                   81.0  28.73                 95.0   \n",
       "2                 127.5                   80.0  25.34                 75.0   \n",
       "3                 150.0                   95.0  28.58                 65.0   \n",
       "4                 130.0                   84.0  23.10                 85.0   \n",
       "\n",
       "   NIVEL GLUCOSA  REC10A  \n",
       "0           77.0       0  \n",
       "1           76.0       0  \n",
       "2           70.0       0  \n",
       "3          103.0       1  \n",
       "4           85.0       0  "
      ]
     },
     "execution_count": 7,
     "metadata": {},
     "output_type": "execute_result"
    }
   ],
   "source": [
    "datos.head(5)"
   ]
  },
  {
   "cell_type": "markdown",
   "id": "2cef3e5e",
   "metadata": {},
   "source": [
    "Variables de interes:\n",
    "\n",
    " - Edad: Edad del paciente\n",
    " - REC10A: Riesgo de enfermedad coronaria coronaria a 10 años (binario: “1”, significa “Sí”, “0” significa “No”)"
   ]
  },
  {
   "cell_type": "markdown",
   "id": "e5c7d01d",
   "metadata": {},
   "source": [
    "   # Tabla con los valores de interes"
   ]
  },
  {
   "cell_type": "code",
   "execution_count": 40,
   "id": "f0128259",
   "metadata": {},
   "outputs": [
    {
     "data": {
      "text/html": [
       "<div>\n",
       "<style scoped>\n",
       "    .dataframe tbody tr th:only-of-type {\n",
       "        vertical-align: middle;\n",
       "    }\n",
       "\n",
       "    .dataframe tbody tr th {\n",
       "        vertical-align: top;\n",
       "    }\n",
       "\n",
       "    .dataframe thead th {\n",
       "        text-align: right;\n",
       "    }\n",
       "</style>\n",
       "<table border=\"1\" class=\"dataframe\">\n",
       "  <thead>\n",
       "    <tr style=\"text-align: right;\">\n",
       "      <th></th>\n",
       "      <th>EDAD</th>\n",
       "      <th>REC10A</th>\n",
       "    </tr>\n",
       "  </thead>\n",
       "  <tbody>\n",
       "    <tr>\n",
       "      <th>0</th>\n",
       "      <td>39</td>\n",
       "      <td>0</td>\n",
       "    </tr>\n",
       "    <tr>\n",
       "      <th>1</th>\n",
       "      <td>46</td>\n",
       "      <td>0</td>\n",
       "    </tr>\n",
       "    <tr>\n",
       "      <th>2</th>\n",
       "      <td>48</td>\n",
       "      <td>0</td>\n",
       "    </tr>\n",
       "    <tr>\n",
       "      <th>3</th>\n",
       "      <td>61</td>\n",
       "      <td>1</td>\n",
       "    </tr>\n",
       "    <tr>\n",
       "      <th>4</th>\n",
       "      <td>46</td>\n",
       "      <td>0</td>\n",
       "    </tr>\n",
       "  </tbody>\n",
       "</table>\n",
       "</div>"
      ],
      "text/plain": [
       "   EDAD  REC10A\n",
       "0    39       0\n",
       "1    46       0\n",
       "2    48       0\n",
       "3    61       1\n",
       "4    46       0"
      ]
     },
     "execution_count": 40,
     "metadata": {},
     "output_type": "execute_result"
    }
   ],
   "source": [
    "datos[['EDAD','REC10A']].head(5)"
   ]
  },
  {
   "cell_type": "code",
   "execution_count": 34,
   "id": "57102775",
   "metadata": {},
   "outputs": [
    {
     "data": {
      "text/plain": [
       "<Axes: xlabel='EDAD', ylabel='REC10A'>"
      ]
     },
     "execution_count": 34,
     "metadata": {},
     "output_type": "execute_result"
    },
    {
     "data": {
      "image/png": "[encoded data removed]",
      "text/plain": [
       "<Figure size 640x480 with 1 Axes>"
      ]
     },
     "metadata": {},
     "output_type": "display_data"
    }
   ],
   "source": [
    "datos[['EDAD','REC10A']].plot.scatter(x='EDAD',y='REC10A')"
   ]
  },
  {
   "cell_type": "code",
   "execution_count": 35,
   "id": "c44933ee",
   "metadata": {
    "scrolled": true
   },
   "outputs": [
    {
     "name": "stdout",
     "output_type": "stream",
     "text": [
      "intercepto (b): [-5.55794639]\n",
      "pendiente (w): [[0.07459601]]\n"
     ]
    }
   ],
   "source": [
    "from sklearn.linear_model import LogisticRegression\n",
    "\n",
    "# definiendo input y output\n",
    "X_datos = np.array(datos['EDAD']).reshape((-1, 1))\n",
    "Y_datos = np.array(datos['REC10A'])\n",
    "\n",
    "# creando modelo\n",
    "model = LogisticRegression()\n",
    "model.fit(X_datos, Y_datos)\n",
    "\n",
    "# imprimiendo parametros\n",
    "print(f\"intercepto (b): {model.intercept_}\")\n",
    "print(f\"pendiente (w): {model.coef_}\")"
   ]
  },
  {
   "cell_type": "code",
   "execution_count": 42,
   "id": "7750886b",
   "metadata": {},
   "outputs": [
    {
     "data": {
      "image/png": "[encoded data removed]",
      "text/plain": [
       "<Figure size 640x480 with 1 Axes>"
      ]
     },
     "metadata": {},
     "output_type": "display_data"
    }
   ],
   "source": [
    "# Variables:\n",
    "w = 0.97\n",
    "b = -2.09\n",
    "\n",
    "# puntos de la recta\n",
    "x = np.linspace(0,datos['EDAD'].max(),100)\n",
    "y = 1/(1+np.exp(-(w*x+b)))\n",
    "\n",
    "# grafica de la recta\n",
    "datos.plot.scatter(x='EDAD',y='REC10A')\n",
    "plt.plot(x, y, '-r')\n",
    "plt.ylim(0,datos['REC10A'].max()*1.1)\n",
    "# plt.grid()\n",
    "plt.show()"
   ]
  },
  {
   "cell_type": "markdown",
   "id": "1c056ad7",
   "metadata": {},
   "source": [
    "### Analisis de los datos obtenidos"
   ]
  },
  {
   "cell_type": "markdown",
   "id": "c48c085f",
   "metadata": {},
   "source": [
    " - La probabilidad de sufrir una enfermedad cardiaca aumenta proporcionalmente con la edad, pero podemos apreciar que específicamente desde los 5 años ya se tiene un riego alto\n",
    " - Las enfermedades cardiacas son diagnosticadas normalmente a partir de los 34 años\n",
    " - según el estudio las personas con riesgo de sufrir una enfermedad cardiaca no viven más de los 73 años\n"
   ]
  }
 ],
 "metadata": {
  "celltoolbar": "Raw Cell Format",
  "kernelspec": {
   "display_name": "Python 3 (ipykernel)",
   "language": "python",
   "name": "python3"
  },
  "language_info": {
   "codemirror_mode": {
    "name": "ipython",
    "version": 3
   },
   "file_extension": ".py",
   "mimetype": "text/x-python",
   "name": "python",
   "nbconvert_exporter": "python",
   "pygments_lexer": "ipython3",
   "version": "3.11.4"
  }
 },
 "nbformat": 4,
 "nbformat_minor": 5
}
